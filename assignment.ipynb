{
 "cells": [
  {
   "cell_type": "markdown",
   "id": "75594460",
   "metadata": {},
   "source": [
    "assignment"
   ]
  },
  {
   "cell_type": "markdown",
   "id": "bc5179c6",
   "metadata": {},
   "source": [
    "This is an markdown cell for introduction. My nickname is Rishat. I am motivated to become a data scientist.  "
   ]
  },
  {
   "cell_type": "markdown",
   "id": "17f8e6aa",
   "metadata": {},
   "source": [
    "## Data Science Languages\n",
    "\n",
    "When it comes to data science, proficiency in programming languages is essential for data manipulation, analysis, modeling, and visualization. Here are some prominent languages used in the field:\n",
    "\n",
    "1. **Python**\n",
    "\n",
    "2. **R**\n",
    "\n",
    "3. **SQL (Structured Query Language)**\n",
    "\n",
    "4. **Julia**\n",
    "\n",
    "5. **MATLAB**"
   ]
  },
  {
   "cell_type": "markdown",
   "id": "a90b660e",
   "metadata": {},
   "source": [
    "Data science libraries \n",
    "* numpy \n",
    "* pandas \n",
    "* sk learn \n",
    "* tensorflow\n",
    "* pytorch"
   ]
  },
  {
   "cell_type": "markdown",
   "id": "bc60ad2b",
   "metadata": {},
   "source": [
    "## Data Science Tools\n",
    "\n",
    "| Tool          | Description                                    | Website                                     |\n",
    "|---------------|------------------------------------------------|---------------------------------------------|\n",
    "| Python        | A versatile programming language widely used   | [python.org](https://www.python.org/)      |\n",
    "| R             | Statistical computing and graphics             | [r-project.org](https://www.r-project.org/)|\n",
    "| Jupyter       | Interactive notebooks for data analysis       | [jupyter.org](https://jupyter.org/)        |\n",
    "| TensorFlow    | Open-source machine learning framework         | [tensorflow.org](https://www.tensorflow.org/)|\n",
    "| PyTorch       | Deep learning framework                        | [pytorch.org](https://pytorch.org/)        |\n",
    "| Pandas        | Data manipulation and analysis in Python       | [pandas.pydata.org](https://pandas.pydata.org/)|\n",
    "| NumPy         | Numerical computing library for Python         | [numpy.org](https://numpy.org/)            |\n",
    "| Scikit-learn  | Machine learning library for Python            | [scikit-learn.org](https://scikit-learn.org/)|\n",
    "| Matplotlib    | Data visualization library for Python          | [matplotlib.org](https://matplotlib.org/)  |\n",
    "| Seaborn       | Statistical data visualization in Python      | [seaborn.pydata.org](https://seaborn.pydata.org/)|\n",
    "| ggplot2       | Data visualization package for R              | [ggplot2.tidyverse.org](https://ggplot2.tidyverse.org/)|\n",
    "| Tableau       | Data visualization and analytics platform      | [tableau.com](https://www.tableau.com/)    |\n",
    "| SQL           | Database querying language                     | [w3schools.com/sql](https://www.w3schools.com/sql/)|\n",
    "| Spark         | Distributed computing framework                | [spark.apache.org](https://spark.apache.org/)|\n",
    "| Hadoop        | Distributed storage and processing framework   | [hadoop.apache.org](https://hadoop.apache.org/)|\n",
    "| Excel         | Spreadsheet software for data analysis         | [microsoft.com/excel](https://www.microsoft.com/en-us/microsoft-365/excel)|\n",
    "| SAS           | Statistical analysis software                  | [sas.com](https://www.sas.com/)            |\n",
    "| MATLAB        | Numerical computing environment                | [mathworks.com/matlab](https://www.mathworks.com/products/matlab.html)|\n",
    "\n",
    "This table provides an overview of various tools commonly used in the field of Data Science, including programming languages, libraries, frameworks, and software for data manipulation, analysis, visualization, and machine learning.\n"
   ]
  },
  {
   "cell_type": "markdown",
   "id": "91f95138",
   "metadata": {},
   "source": [
    "## Arithmetic Expression Examples\n",
    "\n",
    "Arithmetic expressions are fundamental to mathematics and programming alike. They involve basic operations such as addition, subtraction, multiplication, and division. Here are some examples of arithmetic expressions:\n",
    "\n",
    "1. **Addition:**\n",
    "   - \\( 3 + 4 = 7 \\)\n",
    "\n",
    "2. **Subtraction:**\n",
    "   - \\( 10 - 6 = 4 \\)\n",
    "\n",
    "\n",
    "3. **Multiplication:**\n",
    "   - \\( 5 \\times 3 = 15 \\)\n",
    "\n",
    "\n",
    "4. **Division:**\n",
    "   - \\( 10 \\div 2 = 5 \\)"
   ]
  },
  {
   "cell_type": "code",
   "execution_count": 5,
   "id": "99987929",
   "metadata": {},
   "outputs": [
    {
     "name": "stdout",
     "output_type": "stream",
     "text": [
      "Result of multiplication: 30\n",
      "Result of addition: 10\n"
     ]
    }
   ],
   "source": [
    "num1 = 5\n",
    "num2 = 3\n",
    "num3 = 2\n",
    "\n",
    "result_multiply = num1 * num2 * num3\n",
    "print(\"Result of multiplication:\", result_multiply)\n",
    "\n",
    "result_addition = num1 + num2 + num3\n",
    "print(\"Result of addition:\", result_addition)\n"
   ]
  },
  {
   "cell_type": "code",
   "execution_count": 6,
   "id": "be8cece4",
   "metadata": {},
   "outputs": [
    {
     "name": "stdout",
     "output_type": "stream",
     "text": [
      "150 minutes is equal to 2.5 hours.\n"
     ]
    }
   ],
   "source": [
    "minutes = 150\n",
    "\n",
    "hours = minutes / 60\n",
    "\n",
    "print(minutes, \"minutes is equal to\", hours, \"hours.\")\n"
   ]
  },
  {
   "cell_type": "markdown",
   "id": "9acc6112",
   "metadata": {},
   "source": [
    "## Objectives\n",
    "\n",
    "In this notebook, we aim to achieve the following objectives:\n",
    "\n",
    "1. **Demonstrate Basic Arithmetic Operations**\n",
    "\n",
    "2. **Convert Minutes to Hours**\n",
    "\n",
    "3. **Explore Data Science Tools**\n",
    "4. **List Data Science Languages**\n"
   ]
  },
  {
   "cell_type": "markdown",
   "id": "eac1d463",
   "metadata": {},
   "source": [
    "## Kazi Safen Hasan Rishat\n",
    "\n",
    "This notebook was authored by Kazi Safen Hasan Rishat.\n"
   ]
  }
 ],
 "metadata": {
  "kernelspec": {
   "display_name": "Python 3 (ipykernel)",
   "language": "python",
   "name": "python3"
  },
  "language_info": {
   "codemirror_mode": {
    "name": "ipython",
    "version": 3
   },
   "file_extension": ".py",
   "mimetype": "text/x-python",
   "name": "python",
   "nbconvert_exporter": "python",
   "pygments_lexer": "ipython3",
   "version": "3.11.4"
  }
 },
 "nbformat": 4,
 "nbformat_minor": 5
}
